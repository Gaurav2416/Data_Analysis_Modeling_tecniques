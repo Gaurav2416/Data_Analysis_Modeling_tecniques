{
 "cells": [
  {
   "cell_type": "markdown",
   "metadata": {},
   "source": [
    "### Mean\n",
    "\n",
    "    Tean = Total / No of outcomes(n)\n",
    "\n",
    "\n"
   ]
  },
  {
   "cell_type": "code",
   "execution_count": 147,
   "metadata": {},
   "outputs": [],
   "source": [
    "def mean(nums):\n",
    "    total = sum(nums)\n",
    "    n = len(nums)\n",
    "    mean = total / n\n",
    "    return mean"
   ]
  },
  {
   "cell_type": "code",
   "execution_count": 148,
   "metadata": {},
   "outputs": [],
   "source": [
    "def variance(nums, mean) -> float:\n",
    "    x = 0\n",
    "    for i in range(0, len(nums)):\n",
    "        x += pow((nums[i] - mean), 2)\n",
    "    return x"
   ]
  },
  {
   "cell_type": "code",
   "execution_count": 149,
   "metadata": {},
   "outputs": [],
   "source": [
    "def cov(listx, listy):\n",
    "    print('hello',listx)\n",
    "    mean_1 = mean(listx)\n",
    "    mean_2 = mean(listy)\n",
    "    size = len(listx)\n",
    "    covariance = 0.0\n",
    "    for i in range(0, size):\n",
    "        covariance += (listx[i] - mean_1) * (listy[i] - mean_2)\n",
    "    return covariance"
   ]
  },
  {
   "cell_type": "code",
   "execution_count": 150,
   "metadata": {},
   "outputs": [],
   "source": [
    "def ssxreg(b1, sxx):\n",
    "    return (b1 ** 2) * sxx"
   ]
  },
  {
   "cell_type": "code",
   "execution_count": 151,
   "metadata": {},
   "outputs": [],
   "source": [
    "def slope(x_list, y_list):\n",
    "    y_mean = mean(y_list)\n",
    "    x_mean = mean(x_list)\n",
    "    covariance = cov(x_list, y_list)\n",
    "    var = variance(y_list, y_mean)\n",
    "   \n",
    "    print('Cov', covariance)\n",
    "    print('Var', var)\n",
    "\n",
    "    b1 = covariance / var\n",
    "    bo = x_mean - (b1 * y_mean)\n",
    "    sreg = ssxreg(b1, var)\n",
    "    stot = variance(x_list, x_mean)\n",
    "    sreg = round(sreg)\n",
    "    stot = round(stot)\n",
    "    r2 = sreg / stot\n",
    "    print('Anova Table')\n",
    "    print('SS reg ', sreg)\n",
    "    print('SS total ', stot)\n",
    "    print('R-square ', r2)\n",
    "    print('b0 ', bo)\n",
    "    print('b1 ', b1)\n",
    "\n",
    "    return b1, bo"
   ]
  },
  {
   "cell_type": "markdown",
   "metadata": {},
   "source": [
    "### Graph"
   ]
  },
  {
   "cell_type": "code",
   "execution_count": 152,
   "metadata": {},
   "outputs": [],
   "source": [
    "import matplotlib.pyplot as plt\n",
    "import pandas as pd\n",
    "def plot_data(x, y, xfit, predX, predY, figname):\n",
    "    plt.figure(dpi=120)\n",
    "    plt.xlabel('Year')\n",
    "    plt.ylabel('Population')\n",
    "    plt.scatter(x, y)\n",
    "    plt.scatter(predX, predY, color='red')\n",
    "    plt.plot(x, xfit, color= 'black')\n",
    "    plt.savefig('./figs/'+figname, dpi=800)\n",
    "    plt.show()\n"
   ]
  },
  {
   "cell_type": "markdown",
   "metadata": {},
   "source": [
    "### Prediction\n"
   ]
  },
  {
   "cell_type": "code",
   "execution_count": 153,
   "metadata": {},
   "outputs": [],
   "source": [
    "def predict(dataset, years, libname):\n",
    "    x_list = dataset['population']\n",
    "    y_list = dataset['year']\n",
    "    b1, b0 = slope(x_list, y_list)\n",
    "    df_ylist = pd.DataFrame(y_list)\n",
    "    df_xlist = pd.DataFrame(x_list)\n",
    "    predX = []\n",
    "    predY = []\n",
    "\n",
    "    predDf = pd.DataFrame()\n",
    "    for year in years:\n",
    "        df_ylist = df_ylist.append({'year': int(year)}, ignore_index=True)\n",
    "\n",
    "        pred = b0 + b1 * year\n",
    "        df_xlist = df_xlist.append({'population': pred}, ignore_index=True)\n",
    "        predX.append(pred)\n",
    "        predY.append(year)\n",
    "    predDf['year'] =  pd.DataFrame(predY,columns=['year'])\n",
    "    predDf['prediction'] =  pd.DataFrame(predX,columns=['prediction'])\n",
    "    xfit= [b0 + (b1 * year) for year in df_ylist['year']]\n",
    "    print(predDf)\n",
    "    plot_data(df_ylist['year'], df_xlist['population'], xfit, predY, predX, libname+'.jpg')\n",
    "    return predDf"
   ]
  },
  {
   "cell_type": "markdown",
   "metadata": {},
   "source": [
    "### Read dataset\n",
    "\n",
    "    "
   ]
  },
  {
   "cell_type": "markdown",
   "metadata": {},
   "source": [
    "Book Example"
   ]
  },
  {
   "cell_type": "code",
   "execution_count": 154,
   "metadata": {},
   "outputs": [
    {
     "name": "stdout",
     "output_type": "stream",
     "text": [
      "hello 0     2558\n",
      "1     2782\n",
      "2     3043\n",
      "3     3350\n",
      "4     3712\n",
      "5     4089\n",
      "6     4451\n",
      "7     4855\n",
      "8     5287\n",
      "9     5700\n",
      "10    6090\n",
      "11    6474\n",
      "12    6864\n",
      "Name: population, dtype: int64\n",
      "Cov 337250.0\n",
      "Var 4550.0\n",
      "Anova Table\n",
      "SS reg  24997266\n",
      "SS total  25115321\n",
      "R-square  0.995299482734065\n",
      "b0  -142201.26373626373\n",
      "b1  74.12087912087912\n",
      "   year    prediction\n",
      "0  1950   2334.450549\n",
      "1  2100  13452.582418\n"
     ]
    },
    {
     "data": {
      "image/png": "[encoded data removed]",
      "text/plain": [
       "<Figure size 720x480 with 1 Axes>"
      ]
     },
     "metadata": {
      "needs_background": "light"
     },
     "output_type": "display_data"
    },
    {
     "name": "stdout",
     "output_type": "stream",
     "text": [
      "   year    prediction\n",
      "0  1950   2334.450549\n",
      "1  2100  13452.582418\n"
     ]
    }
   ],
   "source": [
    "population_book_sum = pd.read_csv('population.csv')\n",
    "years = [1950, 2100]\n",
    "predDf = predict(population_book_sum, years, 'OutputUS')\n",
    "print(predDf)"
   ]
  },
  {
   "cell_type": "markdown",
   "metadata": {},
   "source": [
    "Indian Population"
   ]
  },
  {
   "cell_type": "code",
   "execution_count": 155,
   "metadata": {},
   "outputs": [
    {
     "name": "stdout",
     "output_type": "stream",
     "text": [
      "hello 0     1393409038\n",
      "1     1380004385\n",
      "2     1366417754\n",
      "3     1352642280\n",
      "4     1338676785\n",
      "         ...    \n",
      "67     402578596\n",
      "68     395544369\n",
      "69     388799073\n",
      "70     382376948\n",
      "71     376325200\n",
      "Name: population, Length: 72, dtype: int64\n",
      "Cov 479202511217.5\n",
      "Var 31098.0\n",
      "Anova Table\n",
      "SS reg  7384238431962126336\n",
      "SS total  7469732431821099008\n",
      "R-square  0.9885546101363996\n",
      "b0  -29766509490.770878\n",
      "b1  15409431.835407421\n",
      "   year    prediction\n",
      "0  2021  1.375952e+09\n",
      "1  2022  1.391362e+09\n"
     ]
    },
    {
     "data": {
      "image/png": "[encoded data removed]",
      "text/plain": [
       "<Figure size 720x480 with 1 Axes>"
      ]
     },
     "metadata": {
      "needs_background": "light"
     },
     "output_type": "display_data"
    },
    {
     "name": "stdout",
     "output_type": "stream",
     "text": [
      "   year    prediction\n",
      "0  2021  1.375952e+09\n",
      "1  2022  1.391362e+09\n"
     ]
    }
   ],
   "source": [
    "dataUS = pd.read_csv('IndiaPopulation.csv')\n",
    "years = [2021, 2022]\n",
    "predDf = predict(dataUS, years, 'OutputUS')\n",
    "print(predDf)"
   ]
  }
 ],
 "metadata": {
  "interpreter": {
   "hash": "4470d5021c783c165560fd433e5eca752f77cffd1f89926e07ab097b1b569fae"
  },
  "kernelspec": {
   "display_name": "Python 3.9.9 64-bit",
   "language": "python",
   "name": "python3"
  },
  "language_info": {
   "codemirror_mode": {
    "name": "ipython",
    "version": 3
   },
   "file_extension": ".py",
   "mimetype": "text/x-python",
   "name": "python",
   "nbconvert_exporter": "python",
   "pygments_lexer": "ipython3",
   "version": "3.10.0"
  },
  "orig_nbformat": 4
 },
 "nbformat": 4,
 "nbformat_minor": 2
}
