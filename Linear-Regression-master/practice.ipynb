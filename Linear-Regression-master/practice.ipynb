{
 "cells": [
  {
   "cell_type": "markdown",
   "metadata": {},
   "source": [
    "Longest Unique Substring"
   ]
  },
  {
   "cell_type": "code",
   "execution_count": null,
   "metadata": {},
   "outputs": [],
   "source": [
    "str = 'KunalNagdevKunal'\n",
    "n = len(str)\n",
    "res = 0\n",
    "for i in range(n):\n",
    "    print(str[i])\n",
    "    visited = [0] * 256\n",
    "    for j in range(i, n):\n",
    "        if(visited[ord(str[j])] == True):\n",
    "            print('IF',str[j])\n",
    "            break\n",
    "        else:\n",
    "            res = max(res, j-i+1)\n",
    "            visited[ord(str[j])] = True\n",
    "            print('Else',str[j])\n",
    "    visited[ord(str[i])] = False\n",
    "print(res)"
   ]
  },
  {
   "cell_type": "markdown",
   "metadata": {},
   "source": [
    "Two sums"
   ]
  },
  {
   "cell_type": "code",
   "execution_count": null,
   "metadata": {},
   "outputs": [],
   "source": [
    "\n",
    "def twoSum(nums, target: int):\n",
    "    demo = []\n",
    "    for i in range(len(nums)):\n",
    "        for j in range(i, len(nums)):\n",
    "            if nums[i] + nums[j] == target and i != j:\n",
    "                demo = [i,j]    \n",
    "    return demo\n",
    "\n",
    "twoSum([3,3],\n",
    "6)"
   ]
  },
  {
   "cell_type": "code",
   "execution_count": null,
   "metadata": {},
   "outputs": [],
   "source": [
    "def twoSum(nums, target: int):\n",
    "    seen = {}\n",
    "    for i, value in enumerate(nums):\n",
    "        remaining = target - nums[i]\n",
    "\n",
    "        if remaining in seen:\n",
    "            return [i, seen[remaining]]\n",
    "            \n",
    "    seen[value] = i \n",
    "    twoSum([3,3],\n",
    "6)"
   ]
  },
  {
   "cell_type": "markdown",
   "metadata": {},
   "source": [
    "Product Except self"
   ]
  },
  {
   "cell_type": "code",
   "execution_count": null,
   "metadata": {},
   "outputs": [],
   "source": [
    "def productExceptSelf(nums):\n",
    "    res = [1] * len(nums)\n",
    "    print(res)\n",
    "    p = 1\n",
    "    r_p = 1\n",
    "    for i in range(len(nums)-1):\n",
    "        p *= nums[i]\n",
    "        r_p *= nums[-i-1]\n",
    "        print(p,r_p)\n",
    "        res[i+1] *= p\n",
    "        res[-i-2] *= r_p\n",
    "\n",
    "    return res\n",
    "productExceptSelf([1,2,3,4])"
   ]
  },
  {
   "cell_type": "markdown",
   "metadata": {},
   "source": [
    "check alternate vowels and consonant"
   ]
  },
  {
   "cell_type": "code",
   "execution_count": null,
   "metadata": {},
   "outputs": [],
   "source": [
    "def check():\n",
    "    a = 'Gaurav'.lower()\n",
    "    vowels= 'aeiou'\n",
    "    consonant = 'bcdfghjklmnpqrstvwxyz'\n",
    "    result = True\n",
    "    for i in range(len(a)-1):\n",
    "        if a[i] in vowels and a[i + 1] in consonant:\n",
    "            print(a[i],a[i+1],'1')\n",
    "            result= True\n",
    "             \n",
    "        elif a[i] in consonant and a[i+1] in vowels:\n",
    "            print(a[i],a[i+1],'2')\n",
    "            result = True\n",
    "            \n",
    "        else:\n",
    "            print(a[i],a[i+1],'3')\n",
    "            result = False\n",
    "            break;\n",
    "    return result;    \n",
    "\n",
    "check()"
   ]
  },
  {
   "cell_type": "markdown",
   "metadata": {},
   "source": [
    "center of array"
   ]
  },
  {
   "cell_type": "code",
   "execution_count": null,
   "metadata": {},
   "outputs": [],
   "source": [
    "a ='Kunal'\n",
    "n= 10\n",
    "b= [a.center(n,'_')]\n",
    "print(a,len(a),b,len(b[0]))"
   ]
  },
  {
   "cell_type": "markdown",
   "metadata": {},
   "source": [
    "concatenate string and sum all intergers"
   ]
  },
  {
   "cell_type": "code",
   "execution_count": null,
   "metadata": {},
   "outputs": [],
   "source": [
    "def concatenationsSum3(a) :\n",
    "     lowSum = 0;\n",
    "     offsetSum = 0;\n",
    "     for i in range(len(a)):\n",
    "        lowSum += a[i];\n",
    "\n",
    "        size = len(str(a[i]))\n",
    "        offset = pow(10, size)\n",
    "        offsetSum += offset\n",
    "        print(lowSum,size,offset,offsetSum)\n",
    "\n",
    "     return lowSum * len(a) + lowSum * offsetSum;\n",
    "concatenationsSum3([10,2])\n",
    "# concatenationsSum3([8])\n",
    "# concatenationsSum3([11,12,13])"
   ]
  },
  {
   "cell_type": "markdown",
   "metadata": {},
   "source": [
    "Netflix Sum by subtracting x from array and return sum of x"
   ]
  },
  {
   "cell_type": "code",
   "execution_count": 43,
   "metadata": {},
   "outputs": [
    {
     "data": {
      "text/plain": [
       "6"
      ]
     },
     "execution_count": 43,
     "metadata": {},
     "output_type": "execute_result"
    }
   ],
   "source": [
    "def check(arr):\n",
    "    x= 0\n",
    "    sum = 0\n",
    "    counter= 1\n",
    "    while True:\n",
    "        for i in range(len(arr)):\n",
    "            if arr[i]!= 0:\n",
    "                break;\n",
    "        counter +=1\n",
    "        if counter == len(arr):\n",
    "            return sum   \n",
    "        x = arr[i]\n",
    "        for j in range(i,len(arr)):\n",
    "            if arr[j] < x:\n",
    "                break;\n",
    "            else:\n",
    "                arr[j]  = arr[j] - x\n",
    "        sum = sum + x\n",
    "check([3,3,5,2,3])        \n"
   ]
  }
 ],
 "metadata": {
  "interpreter": {
   "hash": "ea03bfd8b59b58309cca94bb74a6e7631ad2dce1eb3ee77b3833b08a38356251"
  },
  "kernelspec": {
   "display_name": "Python 3.9.7 64-bit",
   "language": "python",
   "name": "python3"
  },
  "language_info": {
   "codemirror_mode": {
    "name": "ipython",
    "version": 3
   },
   "file_extension": ".py",
   "mimetype": "text/x-python",
   "name": "python",
   "nbconvert_exporter": "python",
   "pygments_lexer": "ipython3",
   "version": "3.10.0"
  },
  "orig_nbformat": 4
 },
 "nbformat": 4,
 "nbformat_minor": 2
}
